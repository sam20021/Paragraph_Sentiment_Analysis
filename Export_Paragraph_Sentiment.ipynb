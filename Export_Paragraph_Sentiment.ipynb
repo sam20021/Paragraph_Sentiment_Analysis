{
 "cells": [
  {
   "cell_type": "code",
   "execution_count": 29,
   "id": "b52af3db-9331-4e0a-8b28-e3d8b7d0c86c",
   "metadata": {},
   "outputs": [],
   "source": [
    "import pandas as pd\n",
    "import torch\n",
    "import torch.nn as nn\n",
    "import torch.optim as optim\n",
    "from nltk.tokenize import word_tokenize\n",
    "from collections import Counter\n",
    "import nltk"
   ]
  },
  {
   "cell_type": "code",
   "execution_count": 31,
   "id": "814d586e-f8d5-41de-9fbd-9403c00e8ab8",
   "metadata": {},
   "outputs": [],
   "source": [
    "df = pd.read_excel('Comment_Datasets.xlsx')\n",
    "paragraphs = df['Text'].tolist()\n",
    "sentiment_scores = df['Sentiment Score'].tolist()"
   ]
  },
  {
   "cell_type": "code",
   "execution_count": 33,
   "id": "c36b7e68-0343-44ec-b5a2-f3655e113102",
   "metadata": {},
   "outputs": [],
   "source": [
    "tokenized_paragraphs = [word_tokenize(paragraph) for paragraph in paragraphs]\n",
    "vocab = Counter()\n",
    "for paragraph in tokenized_paragraphs:\n",
    "    vocab.update(paragraph)\n",
    "word_to_index = {word: idx for idx, word in enumerate(vocab, 1)}\n",
    "index_to_word = {idx: word for word, idx in word_to_index.items()}\n",
    "max_length = max(len(paragraph) for paragraph in tokenized_paragraphs)\n",
    "numerical_paragraphs = [[word_to_index.get(word, 0) for word in paragraph] + [0] * (max_length - len(paragraph)) for paragraph in tokenized_paragraphs]"
   ]
  },
  {
   "cell_type": "code",
   "execution_count": 35,
   "id": "6d87f11b-2a89-4c2a-85e0-ceab36e7ee9b",
   "metadata": {},
   "outputs": [],
   "source": [
    "paragraphs_tensor = torch.tensor(numerical_paragraphs, dtype=torch.long)\n",
    "sentiment_scores_tensor = torch.tensor(sentiment_scores, dtype=torch.float).view(-1, 1)"
   ]
  },
  {
   "cell_type": "code",
   "execution_count": 37,
   "id": "d4b474a9-fb30-4ac2-a5f5-dc67fdfddfd0",
   "metadata": {},
   "outputs": [],
   "source": [
    "class RNNModel(nn.Module):\n",
    "    def __init__(self, vocab_size, embedding_dim, hidden_size, output_size):\n",
    "        super(RNNModel, self).__init__()\n",
    "        self.embedding = nn.Embedding(vocab_size, embedding_dim, dtype=torch.float)\n",
    "        self.rnn = nn.LSTM(embedding_dim, hidden_size)\n",
    "        self.fc = nn.Linear(hidden_size, output_size)\n",
    "\n",
    "    def forward(self, x):\n",
    "        x = self.embedding(x)\n",
    "        x, _ = self.rnn(x)\n",
    "        x = x[:, -1, :]  # Take the last hidden state\n",
    "        x = self.fc(x)\n",
    "        return x"
   ]
  },
  {
   "cell_type": "code",
   "execution_count": 39,
   "id": "a9175295-d1ed-4f4f-9aa8-a3b4d72dbd72",
   "metadata": {},
   "outputs": [],
   "source": [
    "vocab_size = len(vocab) + 1\n",
    "embedding_dim = 128\n",
    "hidden_size = 256\n",
    "output_size = 1  "
   ]
  },
  {
   "cell_type": "code",
   "execution_count": 41,
   "id": "a6c3faed-fea1-40de-a849-6f450c33544c",
   "metadata": {},
   "outputs": [],
   "source": [
    "model = RNNModel(vocab_size, embedding_dim, hidden_size, output_size)"
   ]
  },
  {
   "cell_type": "code",
   "execution_count": 43,
   "id": "0be05716-357e-446b-bd20-3ec6af521418",
   "metadata": {},
   "outputs": [
    {
     "name": "stdout",
     "output_type": "stream",
     "text": [
      "Epoch 1/50, Loss: 54.7079\n",
      "Epoch 2/50, Loss: 49.3383\n",
      "Epoch 3/50, Loss: 44.3355\n",
      "Epoch 4/50, Loss: 39.4274\n",
      "Epoch 5/50, Loss: 34.5115\n",
      "Epoch 6/50, Loss: 29.6135\n",
      "Epoch 7/50, Loss: 24.8559\n",
      "Epoch 8/50, Loss: 20.4077\n",
      "Epoch 9/50, Loss: 16.4256\n",
      "Epoch 10/50, Loss: 13.0156\n",
      "Epoch 11/50, Loss: 10.2260\n",
      "Epoch 12/50, Loss: 8.0605\n",
      "Epoch 13/50, Loss: 6.4916\n",
      "Epoch 14/50, Loss: 5.4660\n",
      "Epoch 15/50, Loss: 4.9075\n",
      "Epoch 16/50, Loss: 4.7204\n",
      "Epoch 17/50, Loss: 4.7969\n",
      "Epoch 18/50, Loss: 5.0249\n",
      "Epoch 19/50, Loss: 5.3023\n",
      "Epoch 20/50, Loss: 5.5521\n",
      "Epoch 21/50, Loss: 5.7285\n",
      "Epoch 22/50, Loss: 5.8129\n",
      "Epoch 23/50, Loss: 5.8052\n",
      "Epoch 24/50, Loss: 5.7169\n",
      "Epoch 25/50, Loss: 5.5656\n",
      "Epoch 26/50, Loss: 5.3717\n",
      "Epoch 27/50, Loss: 5.1554\n",
      "Epoch 28/50, Loss: 4.9348\n",
      "Epoch 29/50, Loss: 4.7245\n",
      "Epoch 30/50, Loss: 4.5349\n",
      "Epoch 31/50, Loss: 4.3726\n",
      "Epoch 32/50, Loss: 4.2401\n",
      "Epoch 33/50, Loss: 4.1370\n",
      "Epoch 34/50, Loss: 4.0605\n",
      "Epoch 35/50, Loss: 4.0061\n",
      "Epoch 36/50, Loss: 3.9681\n",
      "Epoch 37/50, Loss: 3.9406\n",
      "Epoch 38/50, Loss: 3.9178\n",
      "Epoch 39/50, Loss: 3.8944\n",
      "Epoch 40/50, Loss: 3.8663\n",
      "Epoch 41/50, Loss: 3.8303\n",
      "Epoch 42/50, Loss: 3.7848\n",
      "Epoch 43/50, Loss: 3.7293\n",
      "Epoch 44/50, Loss: 3.6644\n",
      "Epoch 45/50, Loss: 3.5916\n",
      "Epoch 46/50, Loss: 3.5132\n",
      "Epoch 47/50, Loss: 3.4317\n",
      "Epoch 48/50, Loss: 3.3496\n",
      "Epoch 49/50, Loss: 3.2695\n",
      "Epoch 50/50, Loss: 3.1930\n"
     ]
    }
   ],
   "source": [
    "criterion = nn.MSELoss()  # For regression\n",
    "optimizer = optim.Adam(model.parameters())\n",
    "\n",
    "# Training loop\n",
    "num_epochs = 50\n",
    "for epoch in range(num_epochs):\n",
    "    model.train()\n",
    "    outputs = model(paragraphs_tensor)\n",
    "    loss = criterion(outputs, sentiment_scores_tensor)\n",
    "    optimizer.zero_grad()\n",
    "    loss.backward()\n",
    "    optimizer.step()\n",
    "\n",
    "    print(f'Epoch {epoch+1}/{num_epochs}, Loss: {loss.item():.4f}')"
   ]
  },
  {
   "cell_type": "code",
   "execution_count": 45,
   "id": "b197ec2f-8f23-497e-b688-bba400b53650",
   "metadata": {},
   "outputs": [
    {
     "name": "stdout",
     "output_type": "stream",
     "text": [
      "Test Loss: 3.1215\n"
     ]
    }
   ],
   "source": [
    "model.eval()\n",
    "with torch.no_grad():\n",
    "    outputs = model(paragraphs_tensor)\n",
    "    test_loss = criterion(outputs, sentiment_scores_tensor)\n",
    "    print(f'Test Loss: {test_loss.item():.4f}')"
   ]
  },
  {
   "cell_type": "code",
   "execution_count": 53,
   "id": "475a69c0-8cfe-4026-9b88-de67f651b775",
   "metadata": {},
   "outputs": [
    {
     "name": "stdin",
     "output_type": "stream",
     "text": [
      "Enter the sentence:  i am the best guy\n"
     ]
    },
    {
     "name": "stdout",
     "output_type": "stream",
     "text": [
      "Predicted Sentiment Score: 4.05\n"
     ]
    }
   ],
   "source": [
    "new_paragraph = str(input(\"Enter the sentence: \"))\n",
    "tokenized_new_paragraph = word_tokenize(new_paragraph)\n",
    "numerical_new_paragraph = [word_to_index.get(word, 0) for word in tokenized_new_paragraph] + [0] * (max_length - len(tokenized_new_paragraph))\n",
    "numerical_new_paragraph_tensor = torch.tensor(numerical_new_paragraph, dtype=torch.long).unsqueeze(0)\n",
    "predicted_sentiment_score = model(numerical_new_paragraph_tensor).item()\n",
    "print(f\"Predicted Sentiment Score: {predicted_sentiment_score:.2f}\")"
   ]
  },
  {
   "cell_type": "code",
   "execution_count": null,
   "id": "9a32730b-50f2-4ba5-ad67-3bd93bb4f3c5",
   "metadata": {},
   "outputs": [],
   "source": []
  }
 ],
 "metadata": {
  "kernelspec": {
   "display_name": "Python 3 (ipykernel)",
   "language": "python",
   "name": "python3"
  },
  "language_info": {
   "codemirror_mode": {
    "name": "ipython",
    "version": 3
   },
   "file_extension": ".py",
   "mimetype": "text/x-python",
   "name": "python",
   "nbconvert_exporter": "python",
   "pygments_lexer": "ipython3",
   "version": "3.12.4"
  }
 },
 "nbformat": 4,
 "nbformat_minor": 5
}
